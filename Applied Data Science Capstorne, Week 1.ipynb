{
 "cells": [
  {
   "cell_type": "markdown",
   "metadata": {},
   "source": [
    "# Finding the best spot for coffee roastery in Kyiv \n",
    "## (Applied Data Science Capstorne, Week 1)"
   ]
  },
  {
   "cell_type": "markdown",
   "metadata": {},
   "source": [
    "by Oleksandr Holubov"
   ]
  },
  {
   "cell_type": "markdown",
   "metadata": {},
   "source": [
    "## 1. Problem description"
   ]
  },
  {
   "cell_type": "markdown",
   "metadata": {},
   "source": [
    "The coffee business is expanding in the Ukrainian capital city of Kyiv in the latest years. Even despite coronavirus pandemic the demand for cafes, coffee shops and coffee points with takeaway coffee is pretty high - there are hundrens if not thousands of them in the Ukrainian capital."
   ]
  },
  {
   "cell_type": "markdown",
   "metadata": {},
   "source": [
    "Hoping that the start of vaccination will boost this market even stronger and a year of pandemic made it a little bit less crowded, Liudmila, a freind of mine and a successfull owner of a cafe in the center of the city, wants to expand her business and kickstart a new coffee roastery. She hopes that growing demand and the cafe owners' need to stand out from their competitors will make the fresh, locally roasted coffee beans a highly desired commodity."
   ]
  },
  {
   "cell_type": "markdown",
   "metadata": {},
   "source": [
    "Knowing my interest in Data Science Liudmila decided to save some mondey and do me a favor of getting me my first real project. She asked me to explore the market in Kyiv and find a best spot for her future roastery."
   ]
  },
  {
   "cell_type": "markdown",
   "metadata": {},
   "source": [
    "### Background information"
   ]
  },
  {
   "cell_type": "markdown",
   "metadata": {},
   "source": [
    "There are 10 districts in Kyiv with the different population, infrastracture and venues available for their residents. That's why Liudmila's search for the perfect place for the new roastery is determined not only by the real estate or rent prices, but also by the factors like proximity to the venues that may be potentially interested in bying freshly roasted coffee beans (cafes, coffee-to-go spots, bars, restaurants) and to the places of high business and social activity which means the higher chance to find a wealthy audience that cares about the nuances of coffee taste."
   ]
  },
  {
   "cell_type": "markdown",
   "metadata": {},
   "source": [
    "That's why my goal will be to find potentially interesting areas in Kyiv that correspond to the following demands:\n",
    "1. Location in the city district (or close to it) with lots of cafes, coffee points and other venues of potential interest.\n",
    "2. Location in the city district (or close to it) with the high business and/or social activity (shopping malls, business centres, art galleries, boutiques etc."
   ]
  },
  {
   "cell_type": "markdown",
   "metadata": {},
   "source": [
    "It's important that the outcome does not need to be a single spot. Liudmila is more interested in a comparison of different districts, because other considerations may come into play later."
   ]
  },
  {
   "cell_type": "markdown",
   "metadata": {},
   "source": [
    "## 2. Data description"
   ]
  },
  {
   "cell_type": "markdown",
   "metadata": {},
   "source": [
    "I will be using Forsquare location data to explore or compare districts of Kyiv. They are a perfect match for my goal and are enough to find a selection of spots according to the demands listed above."
   ]
  },
  {
   "cell_type": "markdown",
   "metadata": {},
   "source": [
    "### Using data to find a spot for a coffee roastery"
   ]
  },
  {
   "cell_type": "markdown",
   "metadata": {},
   "source": [
    "I will access Forsquare location data using Forsquare API, explore and analyse districts of Kyiv. I'll aim to find the districts with the greatest concentration of the coffee spots in the city."
   ]
  },
  {
   "cell_type": "markdown",
   "metadata": {},
   "source": [
    "Then I'll cluster the districts with the help of the k-means algorithm and analyze the resulting clusters. I'll utilize this to find the clusters with the highest economic and social activity."
   ]
  },
  {
   "cell_type": "markdown",
   "metadata": {},
   "source": [
    "This work will be inspired by the labs made during the preparation for this capstone project. I'll use it to strengthen learend skills implementing them for the similar but slightly different task."
   ]
  }
 ],
 "metadata": {
  "kernelspec": {
   "display_name": "Python 3",
   "language": "python",
   "name": "python3"
  },
  "language_info": {
   "codemirror_mode": {
    "name": "ipython",
    "version": 3
   },
   "file_extension": ".py",
   "mimetype": "text/x-python",
   "name": "python",
   "nbconvert_exporter": "python",
   "pygments_lexer": "ipython3",
   "version": "3.8.5"
  }
 },
 "nbformat": 4,
 "nbformat_minor": 4
}
